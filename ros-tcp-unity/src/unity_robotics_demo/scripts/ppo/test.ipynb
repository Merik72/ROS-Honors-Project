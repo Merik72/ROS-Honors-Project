{
 "cells": [
  {
   "cell_type": "code",
   "execution_count": 13,
   "metadata": {},
   "outputs": [],
   "source": [
    "import os\n",
    "import torch\n",
    "import torch.nn as nn\n",
    "import torch.optim as optim\n",
    "import numpy as np\n",
    "from torch.distributions import MultivariateNormal\n",
    "\n",
    "\n",
    "\n",
    "class ActorCritic(nn.Module):\n",
    "    def __init__(self, obs_dim, action_dim, action_std_init):\n",
    "        super(ActorCritic, self).__init__()\n",
    "        self.obs_dim = obs_dim\n",
    "        self.action_dim = action_dim\n",
    "        self.device = torch.device(\"cpu\")\n",
    "        \n",
    "        # Create our variable for the matrix.\n",
    "        # Note that I chose 0.2 for stdev arbitrarily.\n",
    "        self.cov_var = torch.full((self.action_dim,), action_std_init)\n",
    "\n",
    "        # Create the covariance matrix\n",
    "        self.cov_mat = torch.diag(self.cov_var).unsqueeze(dim=0)\n",
    "\n",
    "        # actor\n",
    "        self.actor = nn.Sequential(\n",
    "                        nn.Linear(self.obs_dim, 500),\n",
    "                        nn.Tanh(),\n",
    "                        nn.Linear(500, 300),\n",
    "                        nn.Tanh(),\n",
    "                        nn.Linear(300, 100),\n",
    "                        nn.Tanh(),\n",
    "                        nn.Linear(100, self.action_dim),\n",
    "                        nn.Tanh()\n",
    "                    )\n",
    "        \n",
    "        # critic\n",
    "        self.critic = nn.Sequential(\n",
    "                        nn.Linear(self.obs_dim, 500),\n",
    "                        nn.Tanh(),\n",
    "                        nn.Linear(500, 300),\n",
    "                        nn.Tanh(),\n",
    "                        nn.Linear(300, 100),\n",
    "                        nn.Tanh(),\n",
    "                        nn.Linear(100, 1)\n",
    "                    )\n",
    "\n",
    "    def forward(self, x):\n",
    "        logits = self.actor(x)\n",
    "        val = self.critic(x)\n",
    "        return logits, val"
   ]
  },
  {
   "cell_type": "code",
   "execution_count": 14,
   "metadata": {},
   "outputs": [
    {
     "name": "stdout",
     "output_type": "stream",
     "text": [
      "Total parameters: 618103\n"
     ]
    }
   ],
   "source": [
    "model = ActorCritic(obs_dim= 256, action_dim=2, action_std_init=  0.2)\n",
    "# Calculate total parameters\n",
    "total_params = sum(p.numel() for p in model.parameters())\n",
    "print(f\"Total parameters: {total_params}\")"
   ]
  },
  {
   "cell_type": "code",
   "execution_count": 18,
   "metadata": {},
   "outputs": [
    {
     "data": {
      "text/plain": [
       "[(0.0, 0.0),\n",
       " (0.0, 0.1),\n",
       " (0.0, 0.2),\n",
       " (0.0, 0.3),\n",
       " (0.1, 0.0),\n",
       " (0.1, 0.1),\n",
       " (0.1, 0.2),\n",
       " (0.1, 0.3),\n",
       " (0.2, 0.0),\n",
       " (0.2, 0.1),\n",
       " (0.2, 0.2),\n",
       " (0.2, 0.3),\n",
       " (0.3, 0.0),\n",
       " (0.3, 0.1),\n",
       " (0.3, 0.2),\n",
       " (0.3, 0.3)]"
      ]
     },
     "execution_count": 18,
     "metadata": {},
     "output_type": "execute_result"
    }
   ],
   "source": [
    "from utils import Untils\n",
    "\n",
    "util = Untils(device=\"cuda\")\n",
    "util.action_space_real"
   ]
  }
 ],
 "metadata": {
  "kernelspec": {
   "display_name": "Python 3",
   "language": "python",
   "name": "python3"
  },
  "language_info": {
   "codemirror_mode": {
    "name": "ipython",
    "version": 3
   },
   "file_extension": ".py",
   "mimetype": "text/x-python",
   "name": "python",
   "nbconvert_exporter": "python",
   "pygments_lexer": "ipython3",
   "version": "3.8.10"
  }
 },
 "nbformat": 4,
 "nbformat_minor": 2
}
